{
 "cells": [
  {
   "cell_type": "markdown",
   "id": "61fe2674",
   "metadata": {},
   "source": [
    "# Analysis: What are monthly sales trends in 2023? Include a line chart.\n",
    "            **Dataset:** sales  \n",
    "            **Run ID:** e44eeedd  \n",
    "            **Generated:** 2025-08-26 02:54:19\n",
    "            "
   ]
  },
  {
   "cell_type": "code",
   "execution_count": null,
   "id": "a58645b5",
   "metadata": {},
   "outputs": [],
   "source": [
    "\n",
    "import pandas as pd\n",
    "import numpy as np\n",
    "import matplotlib.pyplot as plt\n",
    "from pathlib import Path\n",
    "\n",
    "try:\n",
    "    import seaborn as sns\n",
    "    _HAS_SEABORN = True\n",
    "except Exception:\n",
    "    _HAS_SEABORN = False\n",
    "\n",
    "plt.style.use('default')\n",
    "if _HAS_SEABORN:\n",
    "    sns.set_palette(\"husl\")\n",
    "%matplotlib inline\n"
   ]
  },
  {
   "cell_type": "code",
   "execution_count": null,
   "id": "0a364b8f",
   "metadata": {},
   "outputs": [],
   "source": [
    "\n",
    "from pathlib import Path\n",
    "import pandas as pd\n",
    "\n",
    "DATA_DIR = Path(\"data\")\n",
    "dataset_path = DATA_DIR / \"sales.csv\"\n",
    "if not dataset_path.exists():\n",
    "    dataset_path = DATA_DIR / \"sales.parquet\"\n",
    "\n",
    "if not dataset_path.exists():\n",
    "    raise FileNotFoundError(f\"Dataset not found: {dataset_path}\")\n",
    "\n",
    "if dataset_path.suffix == '.csv':\n",
    "    df = pd.read_csv(dataset_path)\n",
    "else:\n",
    "    df = pd.read_parquet(dataset_path)\n",
    "\n",
    "print(\"Dataset path:\", dataset_path)\n",
    "print(\"Dataset shape:\", df.shape)\n",
    "print(\"Columns:\", list(df.columns))\n",
    "df.head()\n"
   ]
  },
  {
   "cell_type": "code",
   "execution_count": null,
   "id": "3b62e840",
   "metadata": {},
   "outputs": [],
   "source": [
    "# Environment info (for reproducibility)\n",
    "            import sys, platform\n",
    "            import pandas as pd\n",
    "            try:\n",
    "                import duckdb\n",
    "                duckdb_version = duckdb.__version__\n",
    "            except Exception:\n",
    "                duckdb_version = \"not installed\"\n",
    "            import matplotlib\n",
    "\n",
    "            print(\"Python:\", sys.version.replace(\"\\n\",\" \"))\n",
    "            print(\"Platform:\", platform.platform())\n",
    "            print(\"pandas:\", pd.__version__)\n",
    "            print(\"duckdb:\", duckdb_version)\n",
    "            print(\"matplotlib:\", matplotlib.__version__)"
   ]
  },
  {
   "cell_type": "code",
   "execution_count": null,
   "id": "186f87f5",
   "metadata": {},
   "outputs": [],
   "source": [
    "# Dataset Schema and Info\n",
    "print(\"Dataset Info:\")\n",
    "print(df.info())\n",
    "print(\"\\nBasic Statistics:\")\n",
    "print(df.describe())\n",
    "print(\"\\nMissing Values:\")\n",
    "print(df.isnull().sum())"
   ]
  },
  {
   "cell_type": "markdown",
   "id": "2976d024",
   "metadata": {},
   "source": [
    "## Data Preparation\n",
    "\n",
    "Applied operations:\n",
    "filter: date >= '2023-01-01' AND date <= '2023-12-31'\\nparse_dates: date"
   ]
  },
  {
   "cell_type": "code",
   "execution_count": null,
   "id": "682aa123",
   "metadata": {},
   "outputs": [],
   "source": [
    "# Aggregation Analysis\n",
    "\n",
    "# Group by date_trunc('month', date)\n",
    "result = df.groupby([\"date_trunc('month', date)\"]).agg({\n",
    "    \"total_sales) AS monthly_sales\": \"sum\",\\n}).reset_index()\n",
    "print(\"Aggregation Results:\")\n",
    "print(result)\n",
    "result.head(10)"
   ]
  },
  {
   "cell_type": "code",
   "execution_count": null,
   "id": "348a06bc",
   "metadata": {},
   "outputs": [],
   "source": [
    "# Line Chart\n",
    "plt.figure(figsize=(10, 6))\n",
    "plt.plot(df[\"date_trunc('month', date)\"], df[\"monthly_sales\"], marker=\"o\")\n",
    "plt.xlabel(\"date_trunc('month', date)\")\n",
    "plt.ylabel(\"monthly_sales\")\n",
    "plt.title(\"Line Chart\")\n",
    "plt.tight_layout()\n",
    "plt.show()"
   ]
  },
  {
   "cell_type": "markdown",
   "id": "afbb4611",
   "metadata": {},
   "source": [
    "## Interpretation\n",
    "\n",
    "Analysis of the results shows patterns in the data that address the original question: \"What are monthly sales trends in 2023? Include a line chart.\"\n"
   ]
  },
  {
   "cell_type": "markdown",
   "id": "bb0b71ac",
   "metadata": {},
   "source": [
    "## Summary\n",
    "\n",
    "This analysis was generated automatically by the AI Data Analyst Agent. \n",
    "The notebook contains reproducible code that can be re-executed to generate the same results.\n",
    "\n",
    "For the complete analysis bundle including charts and detailed summary, refer to the accompanying files.\n"
   ]
  }
 ],
 "metadata": {},
 "nbformat": 4,
 "nbformat_minor": 5
}
