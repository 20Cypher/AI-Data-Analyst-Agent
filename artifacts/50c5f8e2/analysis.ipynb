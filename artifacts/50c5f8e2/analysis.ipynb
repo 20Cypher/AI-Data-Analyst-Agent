{
 "cells": [
  {
   "cell_type": "markdown",
   "id": "c1afd320",
   "metadata": {},
   "source": [
    "# Analysis: Show top 5 product categories by total sales.\n",
    "            **Dataset:** sales  \n",
    "            **Run ID:** 50c5f8e2  \n",
    "            **Generated:** 2025-08-26 03:31:02\n",
    "            "
   ]
  },
  {
   "cell_type": "code",
   "execution_count": null,
   "id": "1c218e2c",
   "metadata": {},
   "outputs": [],
   "source": [
    "\n",
    "import pandas as pd\n",
    "import numpy as np\n",
    "import matplotlib.pyplot as plt\n",
    "from pathlib import Path\n",
    "\n",
    "try:\n",
    "    import seaborn as sns\n",
    "    _HAS_SEABORN = True\n",
    "except Exception:\n",
    "    _HAS_SEABORN = False\n",
    "\n",
    "plt.style.use('default')\n",
    "if _HAS_SEABORN:\n",
    "    sns.set_palette(\"husl\")\n",
    "%matplotlib inline\n"
   ]
  },
  {
   "cell_type": "code",
   "execution_count": null,
   "id": "cae578aa",
   "metadata": {},
   "outputs": [],
   "source": [
    "\n",
    "from pathlib import Path\n",
    "import pandas as pd\n",
    "\n",
    "DATA_DIR = Path(\"data\")\n",
    "dataset_path = DATA_DIR / \"sales.csv\"\n",
    "if not dataset_path.exists():\n",
    "    dataset_path = DATA_DIR / \"sales.parquet\"\n",
    "\n",
    "if not dataset_path.exists():\n",
    "    raise FileNotFoundError(f\"Dataset not found: {dataset_path}\")\n",
    "\n",
    "if dataset_path.suffix == '.csv':\n",
    "    df = pd.read_csv(dataset_path)\n",
    "else:\n",
    "    df = pd.read_parquet(dataset_path)\n",
    "\n",
    "print(\"Dataset path:\", dataset_path)\n",
    "print(\"Dataset shape:\", df.shape)\n",
    "print(\"Columns:\", list(df.columns))\n",
    "df.head()\n"
   ]
  },
  {
   "cell_type": "code",
   "execution_count": null,
   "id": "b619586b",
   "metadata": {},
   "outputs": [],
   "source": [
    "# Environment info (for reproducibility)\n",
    "            import sys, platform\n",
    "            import pandas as pd\n",
    "            try:\n",
    "                import duckdb\n",
    "                duckdb_version = duckdb.__version__\n",
    "            except Exception:\n",
    "                duckdb_version = \"not installed\"\n",
    "            import matplotlib\n",
    "\n",
    "            print(\"Python:\", sys.version.replace(\"\\n\",\" \"))\n",
    "            print(\"Platform:\", platform.platform())\n",
    "            print(\"pandas:\", pd.__version__)\n",
    "            print(\"duckdb:\", duckdb_version)\n",
    "            print(\"matplotlib:\", matplotlib.__version__)"
   ]
  },
  {
   "cell_type": "code",
   "execution_count": null,
   "id": "a05907bd",
   "metadata": {},
   "outputs": [],
   "source": [
    "# Dataset Schema and Info\n",
    "print(\"Dataset Info:\")\n",
    "print(df.info())\n",
    "print(\"\\nBasic Statistics:\")\n",
    "print(df.describe())\n",
    "print(\"\\nMissing Values:\")\n",
    "print(df.isnull().sum())"
   ]
  },
  {
   "cell_type": "markdown",
   "id": "bce1c250",
   "metadata": {},
   "source": [
    "## Data Preparation\n",
    "\n",
    "Applied operations:\n",
    "filter: total_sales is not null"
   ]
  },
  {
   "cell_type": "code",
   "execution_count": null,
   "id": "2cd6c349",
   "metadata": {},
   "outputs": [],
   "source": [
    "# Aggregation Analysis\n",
    "\n",
    "# Group by product_category\n",
    "result = df.groupby([\"product_category\"]).agg({\n",
    "    \"total_sales) as total_sales_sum\": \"sum\",\\n}).reset_index()\n",
    "print(\"Aggregation Results:\")\n",
    "print(result)\n",
    "result.head(10)"
   ]
  },
  {
   "cell_type": "code",
   "execution_count": null,
   "id": "6b0b5bf1",
   "metadata": {},
   "outputs": [],
   "source": [
    "# Aggregation Analysis\n",
    "\n",
    "# Group by product_category\n",
    "result = df.groupby([\"product_category\"]).agg({\n",
    "    \"*) as product_count\": \"count\",\\n}).reset_index()\n",
    "print(\"Aggregation Results:\")\n",
    "print(result)\n",
    "result.head(10)"
   ]
  },
  {
   "cell_type": "code",
   "execution_count": null,
   "id": "bfde0cdd",
   "metadata": {},
   "outputs": [],
   "source": [
    "# Bar Chart\n",
    "plt.figure(figsize=(10, 6))\n",
    "plt.bar(df[\"product_category\"], df[\"total_sales_sum\"])\n",
    "plt.xlabel(\"product_category\")\n",
    "plt.ylabel(\"total_sales_sum\")\n",
    "plt.title(\"Bar Chart\")\n",
    "plt.tight_layout()\n",
    "plt.show()"
   ]
  },
  {
   "cell_type": "markdown",
   "id": "d73c565b",
   "metadata": {},
   "source": [
    "## Interpretation\n",
    "\n",
    "Analysis of the results shows patterns in the data that address the original question: \"Show top 5 product categories by total sales.\"\n"
   ]
  },
  {
   "cell_type": "markdown",
   "id": "bdc50d61",
   "metadata": {},
   "source": [
    "## Summary\n",
    "\n",
    "This analysis was generated automatically by the AI Data Analyst Agent. \n",
    "The notebook contains reproducible code that can be re-executed to generate the same results.\n",
    "\n",
    "For the complete analysis bundle including charts and detailed summary, refer to the accompanying files.\n"
   ]
  }
 ],
 "metadata": {},
 "nbformat": 4,
 "nbformat_minor": 5
}
