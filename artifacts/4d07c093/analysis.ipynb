{
 "cells": [
  {
   "cell_type": "markdown",
   "id": "11b93953",
   "metadata": {},
   "source": [
    "# Analysis: which product had the highest quantity?\n",
    "            **Dataset:** sales  \n",
    "            **Run ID:** 4d07c093  \n",
    "            **Generated:** 2025-08-26 03:28:17\n",
    "            "
   ]
  },
  {
   "cell_type": "code",
   "execution_count": null,
   "id": "47dc6cbf",
   "metadata": {},
   "outputs": [],
   "source": [
    "\n",
    "import pandas as pd\n",
    "import numpy as np\n",
    "import matplotlib.pyplot as plt\n",
    "from pathlib import Path\n",
    "\n",
    "try:\n",
    "    import seaborn as sns\n",
    "    _HAS_SEABORN = True\n",
    "except Exception:\n",
    "    _HAS_SEABORN = False\n",
    "\n",
    "plt.style.use('default')\n",
    "if _HAS_SEABORN:\n",
    "    sns.set_palette(\"husl\")\n",
    "%matplotlib inline\n"
   ]
  },
  {
   "cell_type": "code",
   "execution_count": null,
   "id": "e60533e8",
   "metadata": {},
   "outputs": [],
   "source": [
    "\n",
    "from pathlib import Path\n",
    "import pandas as pd\n",
    "\n",
    "DATA_DIR = Path(\"data\")\n",
    "dataset_path = DATA_DIR / \"sales.csv\"\n",
    "if not dataset_path.exists():\n",
    "    dataset_path = DATA_DIR / \"sales.parquet\"\n",
    "\n",
    "if not dataset_path.exists():\n",
    "    raise FileNotFoundError(f\"Dataset not found: {dataset_path}\")\n",
    "\n",
    "if dataset_path.suffix == '.csv':\n",
    "    df = pd.read_csv(dataset_path)\n",
    "else:\n",
    "    df = pd.read_parquet(dataset_path)\n",
    "\n",
    "print(\"Dataset path:\", dataset_path)\n",
    "print(\"Dataset shape:\", df.shape)\n",
    "print(\"Columns:\", list(df.columns))\n",
    "df.head()\n"
   ]
  },
  {
   "cell_type": "code",
   "execution_count": null,
   "id": "634d3011",
   "metadata": {},
   "outputs": [],
   "source": [
    "# Environment info (for reproducibility)\n",
    "            import sys, platform\n",
    "            import pandas as pd\n",
    "            try:\n",
    "                import duckdb\n",
    "                duckdb_version = duckdb.__version__\n",
    "            except Exception:\n",
    "                duckdb_version = \"not installed\"\n",
    "            import matplotlib\n",
    "\n",
    "            print(\"Python:\", sys.version.replace(\"\\n\",\" \"))\n",
    "            print(\"Platform:\", platform.platform())\n",
    "            print(\"pandas:\", pd.__version__)\n",
    "            print(\"duckdb:\", duckdb_version)\n",
    "            print(\"matplotlib:\", matplotlib.__version__)"
   ]
  },
  {
   "cell_type": "code",
   "execution_count": null,
   "id": "c07aaaf0",
   "metadata": {},
   "outputs": [],
   "source": [
    "# Dataset Schema and Info\n",
    "print(\"Dataset Info:\")\n",
    "print(df.info())\n",
    "print(\"\\nBasic Statistics:\")\n",
    "print(df.describe())\n",
    "print(\"\\nMissing Values:\")\n",
    "print(df.isnull().sum())"
   ]
  },
  {
   "cell_type": "markdown",
   "id": "9ba6d36a",
   "metadata": {},
   "source": [
    "## Data Preparation\n",
    "\n",
    "Applied operations:\n",
    "filter: condition (no filtering needed)\\nparse_dates: date"
   ]
  },
  {
   "cell_type": "code",
   "execution_count": null,
   "id": "9a54255f",
   "metadata": {},
   "outputs": [],
   "source": [
    "# Aggregation Analysis\n",
    "\n",
    "# Group by product_name\n",
    "result = df.groupby([\"product_name\"]).agg({\n",
    "    \"quantity) as total_quantity\": \"sum\",\\n}).reset_index()\n",
    "print(\"Aggregation Results:\")\n",
    "print(result)\n",
    "result.head(10)"
   ]
  },
  {
   "cell_type": "code",
   "execution_count": null,
   "id": "3330d4f6",
   "metadata": {},
   "outputs": [],
   "source": [
    "# Bar Chart\n",
    "plt.figure(figsize=(10, 6))\n",
    "plt.bar(df[\"product_name\"], df[\"total_quantity\"])\n",
    "plt.xlabel(\"product_name\")\n",
    "plt.ylabel(\"total_quantity\")\n",
    "plt.title(\"Bar Chart\")\n",
    "plt.tight_layout()\n",
    "plt.show()"
   ]
  },
  {
   "cell_type": "markdown",
   "id": "ff5e0bdf",
   "metadata": {},
   "source": [
    "## Interpretation\n",
    "\n",
    "Analysis of the results shows patterns in the data that address the original question: \"which product had the highest quantity?\"\n"
   ]
  },
  {
   "cell_type": "markdown",
   "id": "e0ab10aa",
   "metadata": {},
   "source": [
    "## Summary\n",
    "\n",
    "This analysis was generated automatically by the AI Data Analyst Agent. \n",
    "The notebook contains reproducible code that can be re-executed to generate the same results.\n",
    "\n",
    "For the complete analysis bundle including charts and detailed summary, refer to the accompanying files.\n"
   ]
  }
 ],
 "metadata": {},
 "nbformat": 4,
 "nbformat_minor": 5
}
